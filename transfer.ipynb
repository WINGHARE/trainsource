{
 "cells": [
  {
   "cell_type": "code",
   "execution_count": 1,
   "metadata": {},
   "outputs": [
    {
     "name": "stderr",
     "output_type": "stream",
     "text": [
      "In D:\\Anaconda3\\lib\\site-packages\\matplotlib\\mpl-data\\stylelib\\_classic_test.mplstyle: \n",
      "The text.latex.preview rcparam was deprecated in Matplotlib 3.3 and will be removed two minor releases later.\n",
      "In D:\\Anaconda3\\lib\\site-packages\\matplotlib\\mpl-data\\stylelib\\_classic_test.mplstyle: \n",
      "The mathtext.fallback_to_cm rcparam was deprecated in Matplotlib 3.3 and will be removed two minor releases later.\n",
      "In D:\\Anaconda3\\lib\\site-packages\\matplotlib\\mpl-data\\stylelib\\_classic_test.mplstyle: Support for setting the 'mathtext.fallback_to_cm' rcParam is deprecated since 3.3 and will be removed two minor releases later; use 'mathtext.fallback : 'cm' instead.\n",
      "In D:\\Anaconda3\\lib\\site-packages\\matplotlib\\mpl-data\\stylelib\\_classic_test.mplstyle: \n",
      "The validate_bool_maybe_none function was deprecated in Matplotlib 3.3 and will be removed two minor releases later.\n",
      "In D:\\Anaconda3\\lib\\site-packages\\matplotlib\\mpl-data\\stylelib\\_classic_test.mplstyle: \n",
      "The savefig.jpeg_quality rcparam was deprecated in Matplotlib 3.3 and will be removed two minor releases later.\n",
      "In D:\\Anaconda3\\lib\\site-packages\\matplotlib\\mpl-data\\stylelib\\_classic_test.mplstyle: \n",
      "The keymap.all_axes rcparam was deprecated in Matplotlib 3.3 and will be removed two minor releases later.\n",
      "In D:\\Anaconda3\\lib\\site-packages\\matplotlib\\mpl-data\\stylelib\\_classic_test.mplstyle: \n",
      "The animation.avconv_path rcparam was deprecated in Matplotlib 3.3 and will be removed two minor releases later.\n",
      "In D:\\Anaconda3\\lib\\site-packages\\matplotlib\\mpl-data\\stylelib\\_classic_test.mplstyle: \n",
      "The animation.avconv_args rcparam was deprecated in Matplotlib 3.3 and will be removed two minor releases later.\n"
     ]
    }
   ],
   "source": [
    "import argparse\n",
    "import copy\n",
    "import os\n",
    "import sys\n",
    "import time\n",
    "\n",
    "import numpy as np\n",
    "import pandas as pd\n",
    "from pandas.core.arrays import boolean\n",
    "import torch\n",
    "from scipy import stats\n",
    "from sklearn import preprocessing\n",
    "from torch import nn, optim\n",
    "from torch.autograd import Variable\n",
    "from torch.nn import functional as F\n",
    "from torch.optim import lr_scheduler\n",
    "from torch.utils.data import DataLoader, TensorDataset\n",
    "from sklearn.model_selection import train_test_split\n",
    "from sklearn.metrics import mean_squared_error\n",
    "import models\n",
    "import utils as ut\n",
    "from models import AEBase, Predictor, PretrainedPredictor\n",
    "\n",
    "import scanpypip.preprocessing as pp\n",
    "import scanpypip.utils as scut \n",
    "\n",
    "import scanpy as sc"
   ]
  },
  {
   "cell_type": "code",
   "execution_count": 2,
   "metadata": {},
   "outputs": [],
   "source": [
    "class Arguments:\n",
    "    def __init__(self):   \n",
    "        self.epochs = 500\n",
    "        self.bottleneck = 512\n",
    "        self.missing_value = np.nan\n",
    "        self.target_data = \"data/GSE108394/GSM2897334/\"\n",
    "        self.source_data = \"data/GDSC2_expression.csv\"\n",
    "        self.test_size = 0.2\n",
    "        self.valid_size = 0.2\n",
    "        self.source_model_path = \"saved/models/pretrained_novar.pkl\"\n",
    "        self.target_model_path = \"saved/models/\"\n",
    "        self.logging_file = \"saved/logs/\"\n",
    "        self.batch_size = 200\n",
    "        self.source_h_dims = \"2048,1024\"\n",
    "        self.target_h_dims = \"512,256\"\n",
    "\n",
    "        self.var_genes_disp = 0\n",
    "        self.pretrain_path = \"saved/models/pretrained_novar.pkl\"\n",
    "        self.min_n_genes = 0\n",
    "        self.max_n_genes = 20000\n",
    "        self.min_g = 200\n",
    "        self.min_c = 3\n",
    "\n",
    "        \n",
    "args = Arguments()"
   ]
  },
  {
   "cell_type": "code",
   "execution_count": 3,
   "metadata": {},
   "outputs": [],
   "source": [
    "epochs = args.epochs\n",
    "dim_au_out = args.bottleneck #8, 16, 32, 64, 128, 256,512\n",
    "dim_dnn_in = dim_au_out\n",
    "dim_dnn_out=1\n",
    "na = args.missing_value\n",
    "data_path = args.target_data\n",
    "test_size = args.test_size\n",
    "valid_size = args.valid_size\n",
    "g_disperson = args.var_genes_disp\n",
    "min_n_genes = args.min_n_genes\n",
    "max_n_genes = args.max_n_genes\n",
    "source_model_path = args.source_model_path\n",
    "target_model_path = args.target_model_path \n",
    "pretrain_path = args.pretrain_path\n",
    "log_path = args.logging_file\n",
    "batch_size = args.batch_size\n",
    "encoder_hdims = args.source_h_dims.split(\",\")\n",
    "encoder_hdims = list(map(int, encoder_hdims))\n",
    "source_data_path = args.source_data \n"
   ]
  },
  {
   "cell_type": "code",
   "execution_count": 4,
   "metadata": {},
   "outputs": [],
   "source": [
    "now=time.strftime(\"%Y-%m-%d-%H-%M-%S\")\n",
    "log_path = log_path+now+\".txt\"\n",
    "export_name = data_path.replace(\"/\",\"\")\n",
    "pretrain_path = \"saved/models/ae_\"+export_name+now+\".pkl\""
   ]
  },
  {
   "cell_type": "code",
   "execution_count": 5,
   "metadata": {},
   "outputs": [],
   "source": [
    "#scv = pd.read_csv('data/GSE117872/GSE117872_good_Data_TPM.txt',sep=\"\\t\")"
   ]
  },
  {
   "cell_type": "code",
   "execution_count": 6,
   "metadata": {},
   "outputs": [],
   "source": [
    "#scv.shape"
   ]
  },
  {
   "cell_type": "code",
   "execution_count": 7,
   "metadata": {},
   "outputs": [],
   "source": [
    "adata = pp.read_sc_file('data/GSE117872/GSE117872_good_Data_TPM.txt')"
   ]
  },
  {
   "cell_type": "code",
   "execution_count": 8,
   "metadata": {},
   "outputs": [
    {
     "data": {
      "text/plain": [
       "AnnData object with n_obs × n_vars = 1302 × 22744"
      ]
     },
     "execution_count": 8,
     "metadata": {},
     "output_type": "execute_result"
    }
   ],
   "source": [
    "adata"
   ]
  },
  {
   "cell_type": "code",
   "execution_count": 9,
   "metadata": {},
   "outputs": [],
   "source": [
    "# adata = sc.read_10x_mtx(\n",
    "#  'data/GSE108394/GSM2897334/',  # the directory with the `.mtx` file \n",
    "#  var_names='gene_symbols',                # use gene symbols for the variable names (variables-axis index)\n",
    "#  cache=True)                              # write a cache file for faster subsequent reading\n"
   ]
  },
  {
   "cell_type": "code",
   "execution_count": 10,
   "metadata": {},
   "outputs": [
    {
     "name": "stderr",
     "output_type": "stream",
     "text": [
      "D:\\Anaconda3\\lib\\site-packages\\anndata\\_core\\anndata.py:1094: FutureWarning: is_categorical is deprecated and will be removed in a future version.  Use is_categorical_dtype instead\n",
      "  if not is_categorical(df_full[k]):\n"
     ]
    }
   ],
   "source": [
    "sc.pp.filter_cells(adata, min_genes=200)\n",
    "sc.pp.filter_genes(adata, min_cells=3)\n",
    "\n",
    "adata = pp.cal_ncount_ngenes(adata)"
   ]
  },
  {
   "cell_type": "code",
   "execution_count": 11,
   "metadata": {},
   "outputs": [
    {
     "data": {
      "text/plain": [
       "AnnData object with n_obs × n_vars = 1302 × 18120\n",
       "    obs: 'n_genes', 'n_genes_by_counts', 'total_counts', 'total_counts_mt', 'pct_counts_mt', 'total_counts_rps', 'pct_counts_rps', 'total_counts_rpl', 'pct_counts_rpl'\n",
       "    var: 'n_cells', 'mt', 'rps', 'rpl', 'n_cells_by_counts', 'mean_counts', 'pct_dropout_by_counts', 'total_counts'"
      ]
     },
     "execution_count": 11,
     "metadata": {},
     "output_type": "execute_result"
    }
   ],
   "source": [
    "adata"
   ]
  },
  {
   "cell_type": "code",
   "execution_count": 12,
   "metadata": {},
   "outputs": [
    {
     "name": "stdout",
     "output_type": "stream",
     "text": [
      "WARNING: saving figure to file figures\\violindataGSE108394GSM2897334.pdf\n"
     ]
    },
    {
     "data": {
      "image/png": "[encoded data removed]",
      "text/plain": [
       "<Figure size 648x216 with 3 Axes>"
      ]
     },
     "metadata": {
      "needs_background": "light"
     },
     "output_type": "display_data"
    }
   ],
   "source": [
    "sc.pl.violin(adata, ['n_genes_by_counts', 'total_counts', 'pct_counts_mt'],\n",
    "             jitter=0.4, multi_panel=True,save=export_name)"
   ]
  },
  {
   "cell_type": "code",
   "execution_count": 13,
   "metadata": {},
   "outputs": [
    {
     "data": {
      "image/png": "[encoded data removed]",
      "text/plain": [
       "<Figure size 487.93x288 with 1 Axes>"
      ]
     },
     "metadata": {
      "needs_background": "light"
     },
     "output_type": "display_data"
    },
    {
     "data": {
      "image/png": "[encoded data removed]",
      "text/plain": [
       "<Figure size 487.93x288 with 1 Axes>"
      ]
     },
     "metadata": {
      "needs_background": "light"
     },
     "output_type": "display_data"
    }
   ],
   "source": [
    "sc.pl.scatter(adata, x='total_counts', y='pct_counts_mt')\n",
    "sc.pl.scatter(adata, x='total_counts', y='n_genes_by_counts')"
   ]
  },
  {
   "cell_type": "code",
   "execution_count": 14,
   "metadata": {
    "scrolled": true
   },
   "outputs": [
    {
     "name": "stderr",
     "output_type": "stream",
     "text": [
      "D:\\Anaconda3\\lib\\site-packages\\anndata\\_core\\anndata.py:1094: FutureWarning: is_categorical is deprecated and will be removed in a future version.  Use is_categorical_dtype instead\n",
      "  if not is_categorical(df_full[k]):\n",
      "D:\\Anaconda3\\lib\\site-packages\\anndata\\_core\\anndata.py:1094: FutureWarning: is_categorical is deprecated and will be removed in a future version.  Use is_categorical_dtype instead\n",
      "  if not is_categorical(df_full[k]):\n",
      "D:\\Anaconda3\\lib\\site-packages\\anndata\\_core\\anndata.py:1094: FutureWarning: is_categorical is deprecated and will be removed in a future version.  Use is_categorical_dtype instead\n",
      "  if not is_categorical(df_full[k]):\n",
      "D:\\Anaconda3\\lib\\site-packages\\scanpy\\preprocessing\\_normalization.py:138: UserWarning: Revieved a view of an AnnData. Making a copy.\n",
      "  view_to_actual(adata)\n"
     ]
    },
    {
     "name": "stdout",
     "output_type": "stream",
     "text": [
      "(1302, 18120)\n"
     ]
    }
   ],
   "source": [
    "adata = pp.receipe_my(adata,l_n_genes=min_n_genes,r_n_genes=max_n_genes,filter_mincells=args.min_c,\n",
    "                      filter_mingenes=args.min_g,normalize=True,log=True)"
   ]
  },
  {
   "cell_type": "code",
   "execution_count": 15,
   "metadata": {},
   "outputs": [
    {
     "name": "stdout",
     "output_type": "stream",
     "text": [
      "WARNING: saving figure to file figures\\filter_genes_dispersiondataGSE108394GSM2897334.pdf\n"
     ]
    },
    {
     "data": {
      "image/png": "[encoded data removed]",
      "text/plain": [
       "<Figure size 864x288 with 2 Axes>"
      ]
     },
     "metadata": {
      "needs_background": "light"
     },
     "output_type": "display_data"
    }
   ],
   "source": [
    "sc.pp.highly_variable_genes(adata,min_disp=g_disperson,max_disp=np.inf,max_mean=6)\n",
    "\n",
    "sc.pl.highly_variable_genes(adata,save=export_name)"
   ]
  },
  {
   "cell_type": "code",
   "execution_count": 16,
   "metadata": {},
   "outputs": [
    {
     "name": "stderr",
     "output_type": "stream",
     "text": [
      "D:\\Anaconda3\\lib\\site-packages\\anndata\\_core\\anndata.py:1094: FutureWarning: is_categorical is deprecated and will be removed in a future version.  Use is_categorical_dtype instead\n",
      "  if not is_categorical(df_full[k]):\n"
     ]
    }
   ],
   "source": [
    "adata.raw = adata\n",
    "\n",
    "adata = adata[:, adata.var.highly_variable]\n",
    "\n",
    "data=adata.X"
   ]
  },
  {
   "cell_type": "code",
   "execution_count": 17,
   "metadata": {},
   "outputs": [],
   "source": [
    "mmscaler = preprocessing.MinMaxScaler()"
   ]
  },
  {
   "cell_type": "code",
   "execution_count": 18,
   "metadata": {},
   "outputs": [],
   "source": [
    "data = mmscaler.fit_transform(data)"
   ]
  },
  {
   "cell_type": "code",
   "execution_count": 19,
   "metadata": {},
   "outputs": [],
   "source": [
    "Xtarget_train, Xtarget_valid = train_test_split(data, test_size=valid_size, random_state=42)"
   ]
  },
  {
   "cell_type": "code",
   "execution_count": 20,
   "metadata": {},
   "outputs": [
    {
     "name": "stdout",
     "output_type": "stream",
     "text": [
      "(1041, 7714) (261, 7714)\n"
     ]
    }
   ],
   "source": [
    "print(Xtarget_train.shape, Xtarget_valid.shape)"
   ]
  },
  {
   "cell_type": "code",
   "execution_count": 21,
   "metadata": {},
   "outputs": [
    {
     "name": "stdout",
     "output_type": "stream",
     "text": [
      "cuda:0\n"
     ]
    }
   ],
   "source": [
    "device = torch.device(\"cuda:0\" if torch.cuda.is_available() else \"cpu\")\n",
    "# Assuming that we are on a CUDA machine, this should print a CUDA device:\n",
    "print(device)\n",
    "torch.cuda.set_device(device)\n",
    "\n",
    "# Construct datasets and data loaders\n",
    "Xtarget_trainTensor = torch.FloatTensor(Xtarget_train).to(device)\n",
    "Xtarget_validTensor = torch.FloatTensor(Xtarget_valid).to(device)\n",
    "X_allTensor = torch.FloatTensor(data).to(device)\n",
    "\n",
    "train_dataset = TensorDataset(Xtarget_trainTensor, Xtarget_trainTensor)\n",
    "valid_dataset = TensorDataset(Xtarget_validTensor, Xtarget_validTensor)\n",
    "all_dataset = TensorDataset(X_allTensor, X_allTensor)\n",
    "\n",
    "\n",
    "Xtarget_trainDataLoader = DataLoader(dataset=train_dataset, batch_size=batch_size, shuffle=True)\n",
    "Xtarget_validDataLoader = DataLoader(dataset=valid_dataset, batch_size=batch_size, shuffle=True)\n",
    "\n",
    "dataloaders_pretrain = {'train':Xtarget_trainDataLoader,'val':Xtarget_validDataLoader}\n"
   ]
  },
  {
   "cell_type": "code",
   "execution_count": 22,
   "metadata": {},
   "outputs": [
    {
     "data": {
      "text/plain": [
       "6"
      ]
     },
     "execution_count": 22,
     "metadata": {},
     "output_type": "execute_result"
    }
   ],
   "source": [
    "len(Xtarget_trainDataLoader)"
   ]
  },
  {
   "cell_type": "code",
   "execution_count": 23,
   "metadata": {},
   "outputs": [
    {
     "name": "stdout",
     "output_type": "stream",
     "text": [
      "AEBase(\n",
      "  (encoder): Sequential(\n",
      "    (0): Sequential(\n",
      "      (0): Linear(in_features=7714, out_features=2048, bias=True)\n",
      "      (1): BatchNorm1d(2048, eps=1e-05, momentum=0.1, affine=True, track_running_stats=True)\n",
      "      (2): Dropout(p=0.3, inplace=False)\n",
      "    )\n",
      "    (1): Sequential(\n",
      "      (0): Linear(in_features=2048, out_features=1024, bias=True)\n",
      "      (1): BatchNorm1d(1024, eps=1e-05, momentum=0.1, affine=True, track_running_stats=True)\n",
      "      (2): Dropout(p=0.3, inplace=False)\n",
      "    )\n",
      "  )\n",
      "  (bottleneck): Linear(in_features=1024, out_features=512, bias=True)\n",
      "  (decoder_input): Linear(in_features=512, out_features=1024, bias=True)\n",
      "  (decoder): Sequential(\n",
      "    (0): Sequential(\n",
      "      (0): Linear(in_features=1024, out_features=2048, bias=True)\n",
      "      (1): BatchNorm1d(2048, eps=1e-05, momentum=0.1, affine=True, track_running_stats=True)\n",
      "      (2): Dropout(p=0.3, inplace=False)\n",
      "    )\n",
      "  )\n",
      "  (final_layer): Sequential(\n",
      "    (0): Linear(in_features=2048, out_features=7714, bias=True)\n",
      "    (1): Sigmoid()\n",
      "  )\n",
      ")\n"
     ]
    }
   ],
   "source": [
    "encoder = AEBase(input_dim=data.shape[1],latent_dim=dim_au_out,h_dims=encoder_hdims)\n",
    "#model = VAE(dim_au_in=data_r.shape[1],dim_au_out=128)\n",
    "if torch.cuda.is_available():\n",
    "    encoder.cuda()\n",
    "\n",
    "print(encoder)\n",
    "encoder.to(device)\n",
    "optimizer_e = optim.Adam(encoder.parameters(), lr=1e-2)\n",
    "loss_function_e = nn.MSELoss()\n",
    "exp_lr_scheduler_e = lr_scheduler.ReduceLROnPlateau(optimizer_e)"
   ]
  },
  {
   "cell_type": "code",
   "execution_count": 24,
   "metadata": {},
   "outputs": [],
   "source": [
    "# Read source data\n",
    "data_r=pd.read_csv(source_data_path,index_col=0)\n"
   ]
  },
  {
   "cell_type": "code",
   "execution_count": 25,
   "metadata": {},
   "outputs": [],
   "source": [
    "source_scaler = preprocessing.MinMaxScaler()\n",
    "source_data = mmscaler.fit_transform(data)\n"
   ]
  },
  {
   "cell_type": "code",
   "execution_count": 26,
   "metadata": {},
   "outputs": [],
   "source": [
    "Xsource_train_all, Xsource_test = train_test_split(data, test_size=test_size, random_state=42)\n",
    "Xsource_train, Xsource_valid = train_test_split(Xsource_train_all, test_size=valid_size, random_state=42)"
   ]
  },
  {
   "cell_type": "code",
   "execution_count": 27,
   "metadata": {},
   "outputs": [],
   "source": [
    "# Transform source data\n",
    "# Construct datasets and data loaders\n",
    "Xsource_trainTensor = torch.FloatTensor(Xsource_train).to(device)\n",
    "Xsource_validTensor = torch.FloatTensor(Xsource_valid).to(device)\n",
    "Xsource_testTensor = torch.FloatTensor(Xsource_test).to(device)\n",
    "Xsource_allTensor = torch.FloatTensor(source_data).to(device)\n",
    "\n",
    "\n",
    "sourcetrain_dataset = TensorDataset(Xsource_trainTensor, Xsource_trainTensor)\n",
    "sourcevalid_dataset = TensorDataset(Xsource_validTensor, Xsource_validTensor)\n",
    "sourcetest_dataset = TensorDataset(Xsource_testTensor, Xsource_testTensor)\n",
    "sourceall_dataset = TensorDataset(Xsource_allTensor, Xsource_allTensor)\n",
    "\n",
    "Xsource_trainDataLoader = DataLoader(dataset=sourcetrain_dataset, batch_size=batch_size, shuffle=True)\n",
    "Xsource_validDataLoader = DataLoader(dataset=sourcevalid_dataset, batch_size=batch_size, shuffle=True)\n",
    "X_allDataLoader = DataLoader(dataset=sourceall_dataset, batch_size=batch_size, shuffle=True)\n",
    "\n",
    "# construct TensorDataset\n",
    "# trainreducedDataset = TensorDataset(Xsource_trainTensor, Y_trainTensor)\n",
    "# validreducedDataset = TensorDataset(Xsource_validTensor, Y_validTensor)\n",
    "\n",
    "# trainDataLoader_p = DataLoader(dataset=trainreducedDataset, batch_size=batch_size, shuffle=True)\n",
    "# validDataLoader_p = DataLoader(dataset=validreducedDataset, batch_size=batch_size, shuffle=True)\n",
    "\n",
    "dataloaders_source = {'train':Xsource_trainDataLoader,'val':Xsource_validDataLoader}"
   ]
  },
  {
   "cell_type": "code",
   "execution_count": 28,
   "metadata": {},
   "outputs": [
    {
     "data": {
      "text/html": [
       "<div>\n",
       "<style scoped>\n",
       "    .dataframe tbody tr th:only-of-type {\n",
       "        vertical-align: middle;\n",
       "    }\n",
       "\n",
       "    .dataframe tbody tr th {\n",
       "        vertical-align: top;\n",
       "    }\n",
       "\n",
       "    .dataframe thead th {\n",
       "        text-align: right;\n",
       "    }\n",
       "</style>\n",
       "<table border=\"1\" class=\"dataframe\">\n",
       "  <thead>\n",
       "    <tr style=\"text-align: right;\">\n",
       "      <th></th>\n",
       "      <th>TSPAN6</th>\n",
       "      <th>TNMD</th>\n",
       "      <th>DPM1</th>\n",
       "      <th>SCYL3</th>\n",
       "      <th>C1orf112</th>\n",
       "      <th>FGR</th>\n",
       "      <th>CFH</th>\n",
       "      <th>FUCA2</th>\n",
       "      <th>GCLC</th>\n",
       "      <th>NFYA</th>\n",
       "      <th>...</th>\n",
       "      <th>LINC00514</th>\n",
       "      <th>OR1D5</th>\n",
       "      <th>ZNF234</th>\n",
       "      <th>MYH4</th>\n",
       "      <th>LINC00526</th>\n",
       "      <th>PPY2</th>\n",
       "      <th>KRT18P55</th>\n",
       "      <th>POLRMTP1</th>\n",
       "      <th>UBL5P2</th>\n",
       "      <th>TBC1D3P5</th>\n",
       "    </tr>\n",
       "  </thead>\n",
       "  <tbody>\n",
       "    <tr>\n",
       "      <th>DATA.683665</th>\n",
       "      <td>3.238273</td>\n",
       "      <td>2.982254</td>\n",
       "      <td>10.235491</td>\n",
       "      <td>4.856061</td>\n",
       "      <td>4.078870</td>\n",
       "      <td>9.116236</td>\n",
       "      <td>3.658590</td>\n",
       "      <td>6.145475</td>\n",
       "      <td>5.042464</td>\n",
       "      <td>5.438402</td>\n",
       "      <td>...</td>\n",
       "      <td>3.103752</td>\n",
       "      <td>3.724013</td>\n",
       "      <td>3.981948</td>\n",
       "      <td>2.823245</td>\n",
       "      <td>5.866047</td>\n",
       "      <td>3.095716</td>\n",
       "      <td>3.274367</td>\n",
       "      <td>3.056214</td>\n",
       "      <td>9.446305</td>\n",
       "      <td>3.530871</td>\n",
       "    </tr>\n",
       "    <tr>\n",
       "      <th>DATA.683667</th>\n",
       "      <td>7.780713</td>\n",
       "      <td>2.753253</td>\n",
       "      <td>9.960137</td>\n",
       "      <td>4.351073</td>\n",
       "      <td>3.716740</td>\n",
       "      <td>3.222277</td>\n",
       "      <td>8.221606</td>\n",
       "      <td>3.823474</td>\n",
       "      <td>4.756228</td>\n",
       "      <td>5.805642</td>\n",
       "      <td>...</td>\n",
       "      <td>3.175476</td>\n",
       "      <td>3.779354</td>\n",
       "      <td>4.504481</td>\n",
       "      <td>2.690651</td>\n",
       "      <td>3.347520</td>\n",
       "      <td>3.230713</td>\n",
       "      <td>3.102091</td>\n",
       "      <td>3.169188</td>\n",
       "      <td>9.810430</td>\n",
       "      <td>3.266915</td>\n",
       "    </tr>\n",
       "    <tr>\n",
       "      <th>DATA.684052</th>\n",
       "      <td>7.301344</td>\n",
       "      <td>2.890533</td>\n",
       "      <td>9.922489</td>\n",
       "      <td>4.125088</td>\n",
       "      <td>3.678987</td>\n",
       "      <td>3.096576</td>\n",
       "      <td>3.588391</td>\n",
       "      <td>4.809305</td>\n",
       "      <td>4.951782</td>\n",
       "      <td>5.089165</td>\n",
       "      <td>...</td>\n",
       "      <td>3.299300</td>\n",
       "      <td>3.762301</td>\n",
       "      <td>4.177345</td>\n",
       "      <td>2.499803</td>\n",
       "      <td>5.054260</td>\n",
       "      <td>3.003521</td>\n",
       "      <td>3.068187</td>\n",
       "      <td>3.135479</td>\n",
       "      <td>9.073222</td>\n",
       "      <td>3.098364</td>\n",
       "    </tr>\n",
       "    <tr>\n",
       "      <th>DATA.684057</th>\n",
       "      <td>8.233101</td>\n",
       "      <td>2.824687</td>\n",
       "      <td>10.015884</td>\n",
       "      <td>4.749715</td>\n",
       "      <td>3.839433</td>\n",
       "      <td>3.142754</td>\n",
       "      <td>5.329830</td>\n",
       "      <td>3.272124</td>\n",
       "      <td>5.538055</td>\n",
       "      <td>6.428482</td>\n",
       "      <td>...</td>\n",
       "      <td>3.081750</td>\n",
       "      <td>3.226083</td>\n",
       "      <td>4.666295</td>\n",
       "      <td>2.491254</td>\n",
       "      <td>6.261573</td>\n",
       "      <td>3.031862</td>\n",
       "      <td>3.322455</td>\n",
       "      <td>2.813440</td>\n",
       "      <td>8.893197</td>\n",
       "      <td>3.266184</td>\n",
       "    </tr>\n",
       "    <tr>\n",
       "      <th>DATA.684059</th>\n",
       "      <td>8.333466</td>\n",
       "      <td>3.966757</td>\n",
       "      <td>9.793991</td>\n",
       "      <td>3.976923</td>\n",
       "      <td>3.505669</td>\n",
       "      <td>3.079943</td>\n",
       "      <td>3.373640</td>\n",
       "      <td>4.199048</td>\n",
       "      <td>5.794734</td>\n",
       "      <td>5.902391</td>\n",
       "      <td>...</td>\n",
       "      <td>3.055770</td>\n",
       "      <td>3.738082</td>\n",
       "      <td>4.705392</td>\n",
       "      <td>2.667882</td>\n",
       "      <td>3.885425</td>\n",
       "      <td>2.993918</td>\n",
       "      <td>3.219777</td>\n",
       "      <td>3.033869</td>\n",
       "      <td>8.691401</td>\n",
       "      <td>3.279230</td>\n",
       "    </tr>\n",
       "    <tr>\n",
       "      <th>...</th>\n",
       "      <td>...</td>\n",
       "      <td>...</td>\n",
       "      <td>...</td>\n",
       "      <td>...</td>\n",
       "      <td>...</td>\n",
       "      <td>...</td>\n",
       "      <td>...</td>\n",
       "      <td>...</td>\n",
       "      <td>...</td>\n",
       "      <td>...</td>\n",
       "      <td>...</td>\n",
       "      <td>...</td>\n",
       "      <td>...</td>\n",
       "      <td>...</td>\n",
       "      <td>...</td>\n",
       "      <td>...</td>\n",
       "      <td>...</td>\n",
       "      <td>...</td>\n",
       "      <td>...</td>\n",
       "      <td>...</td>\n",
       "      <td>...</td>\n",
       "    </tr>\n",
       "    <tr>\n",
       "      <th>DATA.1659928</th>\n",
       "      <td>7.245503</td>\n",
       "      <td>2.898369</td>\n",
       "      <td>9.737324</td>\n",
       "      <td>4.295495</td>\n",
       "      <td>3.429522</td>\n",
       "      <td>3.264985</td>\n",
       "      <td>3.509126</td>\n",
       "      <td>6.422919</td>\n",
       "      <td>5.522948</td>\n",
       "      <td>4.563243</td>\n",
       "      <td>...</td>\n",
       "      <td>3.302293</td>\n",
       "      <td>3.237528</td>\n",
       "      <td>3.770028</td>\n",
       "      <td>2.650564</td>\n",
       "      <td>5.786714</td>\n",
       "      <td>3.189778</td>\n",
       "      <td>3.528351</td>\n",
       "      <td>3.580661</td>\n",
       "      <td>9.717357</td>\n",
       "      <td>3.704140</td>\n",
       "    </tr>\n",
       "    <tr>\n",
       "      <th>DATA.1660034</th>\n",
       "      <td>8.579664</td>\n",
       "      <td>2.778771</td>\n",
       "      <td>9.768011</td>\n",
       "      <td>5.713156</td>\n",
       "      <td>4.455503</td>\n",
       "      <td>3.388605</td>\n",
       "      <td>3.760805</td>\n",
       "      <td>7.483606</td>\n",
       "      <td>6.906877</td>\n",
       "      <td>5.887162</td>\n",
       "      <td>...</td>\n",
       "      <td>3.972611</td>\n",
       "      <td>4.007318</td>\n",
       "      <td>3.605398</td>\n",
       "      <td>2.565349</td>\n",
       "      <td>3.260777</td>\n",
       "      <td>2.983984</td>\n",
       "      <td>3.717966</td>\n",
       "      <td>3.719941</td>\n",
       "      <td>9.798886</td>\n",
       "      <td>3.396734</td>\n",
       "    </tr>\n",
       "    <tr>\n",
       "      <th>DATA.1660035</th>\n",
       "      <td>8.077116</td>\n",
       "      <td>2.781325</td>\n",
       "      <td>10.038055</td>\n",
       "      <td>5.205411</td>\n",
       "      <td>3.758069</td>\n",
       "      <td>3.111444</td>\n",
       "      <td>3.714148</td>\n",
       "      <td>8.947314</td>\n",
       "      <td>6.013510</td>\n",
       "      <td>4.406719</td>\n",
       "      <td>...</td>\n",
       "      <td>4.991264</td>\n",
       "      <td>3.312884</td>\n",
       "      <td>4.008429</td>\n",
       "      <td>2.772584</td>\n",
       "      <td>5.787669</td>\n",
       "      <td>3.283547</td>\n",
       "      <td>3.740781</td>\n",
       "      <td>3.471996</td>\n",
       "      <td>8.837456</td>\n",
       "      <td>3.143362</td>\n",
       "    </tr>\n",
       "    <tr>\n",
       "      <th>DATA.1660036</th>\n",
       "      <td>7.797699</td>\n",
       "      <td>2.640900</td>\n",
       "      <td>9.463400</td>\n",
       "      <td>4.039697</td>\n",
       "      <td>3.854522</td>\n",
       "      <td>3.212820</td>\n",
       "      <td>3.369225</td>\n",
       "      <td>8.969264</td>\n",
       "      <td>6.660734</td>\n",
       "      <td>4.942390</td>\n",
       "      <td>...</td>\n",
       "      <td>6.654799</td>\n",
       "      <td>3.734381</td>\n",
       "      <td>4.158913</td>\n",
       "      <td>2.849266</td>\n",
       "      <td>4.772469</td>\n",
       "      <td>3.101758</td>\n",
       "      <td>3.662190</td>\n",
       "      <td>3.329809</td>\n",
       "      <td>9.491964</td>\n",
       "      <td>3.317055</td>\n",
       "    </tr>\n",
       "    <tr>\n",
       "      <th>DATA.1674021</th>\n",
       "      <td>7.606903</td>\n",
       "      <td>3.157319</td>\n",
       "      <td>10.153141</td>\n",
       "      <td>3.768090</td>\n",
       "      <td>3.502940</td>\n",
       "      <td>3.219493</td>\n",
       "      <td>3.353777</td>\n",
       "      <td>7.774275</td>\n",
       "      <td>6.146783</td>\n",
       "      <td>5.429215</td>\n",
       "      <td>...</td>\n",
       "      <td>8.123459</td>\n",
       "      <td>3.467924</td>\n",
       "      <td>3.862499</td>\n",
       "      <td>2.835317</td>\n",
       "      <td>3.329585</td>\n",
       "      <td>3.193906</td>\n",
       "      <td>4.152130</td>\n",
       "      <td>3.332182</td>\n",
       "      <td>8.826412</td>\n",
       "      <td>3.852447</td>\n",
       "    </tr>\n",
       "  </tbody>\n",
       "</table>\n",
       "<p>804 rows × 17419 columns</p>\n",
       "</div>"
      ],
      "text/plain": [
       "                TSPAN6      TNMD       DPM1     SCYL3  C1orf112       FGR  \\\n",
       "DATA.683665   3.238273  2.982254  10.235491  4.856061  4.078870  9.116236   \n",
       "DATA.683667   7.780713  2.753253   9.960137  4.351073  3.716740  3.222277   \n",
       "DATA.684052   7.301344  2.890533   9.922489  4.125088  3.678987  3.096576   \n",
       "DATA.684057   8.233101  2.824687  10.015884  4.749715  3.839433  3.142754   \n",
       "DATA.684059   8.333466  3.966757   9.793991  3.976923  3.505669  3.079943   \n",
       "...                ...       ...        ...       ...       ...       ...   \n",
       "DATA.1659928  7.245503  2.898369   9.737324  4.295495  3.429522  3.264985   \n",
       "DATA.1660034  8.579664  2.778771   9.768011  5.713156  4.455503  3.388605   \n",
       "DATA.1660035  8.077116  2.781325  10.038055  5.205411  3.758069  3.111444   \n",
       "DATA.1660036  7.797699  2.640900   9.463400  4.039697  3.854522  3.212820   \n",
       "DATA.1674021  7.606903  3.157319  10.153141  3.768090  3.502940  3.219493   \n",
       "\n",
       "                   CFH     FUCA2      GCLC      NFYA  ...  LINC00514  \\\n",
       "DATA.683665   3.658590  6.145475  5.042464  5.438402  ...   3.103752   \n",
       "DATA.683667   8.221606  3.823474  4.756228  5.805642  ...   3.175476   \n",
       "DATA.684052   3.588391  4.809305  4.951782  5.089165  ...   3.299300   \n",
       "DATA.684057   5.329830  3.272124  5.538055  6.428482  ...   3.081750   \n",
       "DATA.684059   3.373640  4.199048  5.794734  5.902391  ...   3.055770   \n",
       "...                ...       ...       ...       ...  ...        ...   \n",
       "DATA.1659928  3.509126  6.422919  5.522948  4.563243  ...   3.302293   \n",
       "DATA.1660034  3.760805  7.483606  6.906877  5.887162  ...   3.972611   \n",
       "DATA.1660035  3.714148  8.947314  6.013510  4.406719  ...   4.991264   \n",
       "DATA.1660036  3.369225  8.969264  6.660734  4.942390  ...   6.654799   \n",
       "DATA.1674021  3.353777  7.774275  6.146783  5.429215  ...   8.123459   \n",
       "\n",
       "                 OR1D5    ZNF234      MYH4  LINC00526      PPY2  KRT18P55  \\\n",
       "DATA.683665   3.724013  3.981948  2.823245   5.866047  3.095716  3.274367   \n",
       "DATA.683667   3.779354  4.504481  2.690651   3.347520  3.230713  3.102091   \n",
       "DATA.684052   3.762301  4.177345  2.499803   5.054260  3.003521  3.068187   \n",
       "DATA.684057   3.226083  4.666295  2.491254   6.261573  3.031862  3.322455   \n",
       "DATA.684059   3.738082  4.705392  2.667882   3.885425  2.993918  3.219777   \n",
       "...                ...       ...       ...        ...       ...       ...   \n",
       "DATA.1659928  3.237528  3.770028  2.650564   5.786714  3.189778  3.528351   \n",
       "DATA.1660034  4.007318  3.605398  2.565349   3.260777  2.983984  3.717966   \n",
       "DATA.1660035  3.312884  4.008429  2.772584   5.787669  3.283547  3.740781   \n",
       "DATA.1660036  3.734381  4.158913  2.849266   4.772469  3.101758  3.662190   \n",
       "DATA.1674021  3.467924  3.862499  2.835317   3.329585  3.193906  4.152130   \n",
       "\n",
       "              POLRMTP1    UBL5P2  TBC1D3P5  \n",
       "DATA.683665   3.056214  9.446305  3.530871  \n",
       "DATA.683667   3.169188  9.810430  3.266915  \n",
       "DATA.684052   3.135479  9.073222  3.098364  \n",
       "DATA.684057   2.813440  8.893197  3.266184  \n",
       "DATA.684059   3.033869  8.691401  3.279230  \n",
       "...                ...       ...       ...  \n",
       "DATA.1659928  3.580661  9.717357  3.704140  \n",
       "DATA.1660034  3.719941  9.798886  3.396734  \n",
       "DATA.1660035  3.471996  8.837456  3.143362  \n",
       "DATA.1660036  3.329809  9.491964  3.317055  \n",
       "DATA.1674021  3.332182  8.826412  3.852447  \n",
       "\n",
       "[804 rows x 17419 columns]"
      ]
     },
     "execution_count": 28,
     "metadata": {},
     "output_type": "execute_result"
    }
   ],
   "source": [
    "data_r"
   ]
  },
  {
   "cell_type": "code",
   "execution_count": 29,
   "metadata": {},
   "outputs": [
    {
     "data": {
      "text/plain": [
       "AEBase(\n",
       "  (encoder): Sequential(\n",
       "    (0): Sequential(\n",
       "      (0): Linear(in_features=17419, out_features=2048, bias=True)\n",
       "      (1): BatchNorm1d(2048, eps=1e-05, momentum=0.1, affine=True, track_running_stats=True)\n",
       "      (2): Dropout(p=0.3, inplace=False)\n",
       "    )\n",
       "    (1): Sequential(\n",
       "      (0): Linear(in_features=2048, out_features=1024, bias=True)\n",
       "      (1): BatchNorm1d(1024, eps=1e-05, momentum=0.1, affine=True, track_running_stats=True)\n",
       "      (2): Dropout(p=0.3, inplace=False)\n",
       "    )\n",
       "  )\n",
       "  (bottleneck): Linear(in_features=1024, out_features=512, bias=True)\n",
       "  (decoder_input): Linear(in_features=512, out_features=1024, bias=True)\n",
       "  (decoder): Sequential(\n",
       "    (0): Sequential(\n",
       "      (0): Linear(in_features=1024, out_features=2048, bias=True)\n",
       "      (1): BatchNorm1d(2048, eps=1e-05, momentum=0.1, affine=True, track_running_stats=True)\n",
       "      (2): Dropout(p=0.3, inplace=False)\n",
       "    )\n",
       "  )\n",
       "  (final_layer): Sequential(\n",
       "    (0): Linear(in_features=2048, out_features=17419, bias=True)\n",
       "    (1): Sigmoid()\n",
       "  )\n",
       ")"
      ]
     },
     "execution_count": 29,
     "metadata": {},
     "output_type": "execute_result"
    }
   ],
   "source": [
    "# Load source model\n",
    "source_encoder = AEBase(input_dim=data_r.shape[1],latent_dim=dim_au_out,h_dims=encoder_hdims)\n",
    "source_encoder.load_state_dict(torch.load(source_model_path))          \n",
    "source_encoder.to(device)"
   ]
  },
  {
   "cell_type": "code",
   "execution_count": 30,
   "metadata": {},
   "outputs": [],
   "source": [
    "# Set discriminator model\n",
    "discriminator = Predictor(input_dim=dim_au_out)\n",
    "discriminator.to(device)\n",
    "loss_d = nn.CrossEntropyLoss()\n",
    "optimizer_d = optim.Adam(encoder.parameters(), lr=1e-2)\n",
    "exp_lr_scheduler_d = lr_scheduler.ReduceLROnPlateau(optimizer_d)"
   ]
  },
  {
   "cell_type": "code",
   "execution_count": 31,
   "metadata": {},
   "outputs": [
    {
     "data": {
      "text/plain": [
       "device(type='cuda', index=0)"
      ]
     },
     "execution_count": 31,
     "metadata": {},
     "output_type": "execute_result"
    }
   ],
   "source": [
    "device"
   ]
  },
  {
   "cell_type": "code",
   "execution_count": 32,
   "metadata": {},
   "outputs": [
    {
     "name": "stdout",
     "output_type": "stream",
     "text": [
      "Epoch 0/499\n",
      "----------\n"
     ]
    },
    {
     "ename": "RuntimeError",
     "evalue": "size mismatch, m1: [200 x 7714], m2: [17419 x 2048] at C:/w/1/s/windows/pytorch/aten/src\\THC/generic/THCTensorMathBlas.cu:290",
     "output_type": "error",
     "traceback": [
      "\u001b[1;31m---------------------------------------------------------------------------\u001b[0m",
      "\u001b[1;31mRuntimeError\u001b[0m                              Traceback (most recent call last)",
      "\u001b[1;32m<ipython-input-32-6d1d789bf5da>\u001b[0m in \u001b[0;36m<module>\u001b[1;34m\u001b[0m\n\u001b[0;32m      4\u001b[0m                     \u001b[0moptimizer_e\u001b[0m\u001b[1;33m,\u001b[0m\u001b[0moptimizer_d\u001b[0m\u001b[1;33m,\u001b[0m\u001b[1;33m\u001b[0m\u001b[1;33m\u001b[0m\u001b[0m\n\u001b[0;32m      5\u001b[0m                     \u001b[0mexp_lr_scheduler_e\u001b[0m\u001b[1;33m,\u001b[0m\u001b[0mexp_lr_scheduler_d\u001b[0m\u001b[1;33m,\u001b[0m\u001b[1;33m\u001b[0m\u001b[1;33m\u001b[0m\u001b[0m\n\u001b[1;32m----> 6\u001b[1;33m                     500,device)\n\u001b[0m",
      "\u001b[1;32mD:\\pyws\\trainsource\\utils.py\u001b[0m in \u001b[0;36mtrain_transfer_model\u001b[1;34m(source_encoder, target_encoder, discriminator, source_loader, target_loader, dis_loss, target_loss, optimizer, d_optimizer, scheduler, d_scheduler, n_epochs, device, save_path, args)\u001b[0m\n\u001b[0;32m    234\u001b[0m                 \u001b[0mbs\u001b[0m \u001b[1;33m=\u001b[0m \u001b[0msource_data\u001b[0m\u001b[1;33m.\u001b[0m\u001b[0msize\u001b[0m\u001b[1;33m(\u001b[0m\u001b[1;36m0\u001b[0m\u001b[1;33m)\u001b[0m\u001b[1;33m\u001b[0m\u001b[1;33m\u001b[0m\u001b[0m\n\u001b[0;32m    235\u001b[0m \u001b[1;33m\u001b[0m\u001b[0m\n\u001b[1;32m--> 236\u001b[1;33m                 \u001b[0mD_input_source\u001b[0m \u001b[1;33m=\u001b[0m \u001b[0msource_encoder\u001b[0m\u001b[1;33m.\u001b[0m\u001b[0mencoder\u001b[0m\u001b[1;33m(\u001b[0m\u001b[0msource_data\u001b[0m\u001b[1;33m)\u001b[0m\u001b[1;33m\u001b[0m\u001b[1;33m\u001b[0m\u001b[0m\n\u001b[0m\u001b[0;32m    237\u001b[0m                 \u001b[0mD_input_target\u001b[0m \u001b[1;33m=\u001b[0m \u001b[0mtarget_encoder\u001b[0m\u001b[1;33m.\u001b[0m\u001b[0mencoder\u001b[0m\u001b[1;33m(\u001b[0m\u001b[0mtarget_data\u001b[0m\u001b[1;33m)\u001b[0m\u001b[1;33m\u001b[0m\u001b[1;33m\u001b[0m\u001b[0m\n\u001b[0;32m    238\u001b[0m                 D_target_source = torch.tensor(\n",
      "\u001b[1;32mD:\\Anaconda3\\lib\\site-packages\\torch\\nn\\modules\\module.py\u001b[0m in \u001b[0;36m__call__\u001b[1;34m(self, *input, **kwargs)\u001b[0m\n\u001b[0;32m    539\u001b[0m             \u001b[0mresult\u001b[0m \u001b[1;33m=\u001b[0m \u001b[0mself\u001b[0m\u001b[1;33m.\u001b[0m\u001b[0m_slow_forward\u001b[0m\u001b[1;33m(\u001b[0m\u001b[1;33m*\u001b[0m\u001b[0minput\u001b[0m\u001b[1;33m,\u001b[0m \u001b[1;33m**\u001b[0m\u001b[0mkwargs\u001b[0m\u001b[1;33m)\u001b[0m\u001b[1;33m\u001b[0m\u001b[1;33m\u001b[0m\u001b[0m\n\u001b[0;32m    540\u001b[0m         \u001b[1;32melse\u001b[0m\u001b[1;33m:\u001b[0m\u001b[1;33m\u001b[0m\u001b[1;33m\u001b[0m\u001b[0m\n\u001b[1;32m--> 541\u001b[1;33m             \u001b[0mresult\u001b[0m \u001b[1;33m=\u001b[0m \u001b[0mself\u001b[0m\u001b[1;33m.\u001b[0m\u001b[0mforward\u001b[0m\u001b[1;33m(\u001b[0m\u001b[1;33m*\u001b[0m\u001b[0minput\u001b[0m\u001b[1;33m,\u001b[0m \u001b[1;33m**\u001b[0m\u001b[0mkwargs\u001b[0m\u001b[1;33m)\u001b[0m\u001b[1;33m\u001b[0m\u001b[1;33m\u001b[0m\u001b[0m\n\u001b[0m\u001b[0;32m    542\u001b[0m         \u001b[1;32mfor\u001b[0m \u001b[0mhook\u001b[0m \u001b[1;32min\u001b[0m \u001b[0mself\u001b[0m\u001b[1;33m.\u001b[0m\u001b[0m_forward_hooks\u001b[0m\u001b[1;33m.\u001b[0m\u001b[0mvalues\u001b[0m\u001b[1;33m(\u001b[0m\u001b[1;33m)\u001b[0m\u001b[1;33m:\u001b[0m\u001b[1;33m\u001b[0m\u001b[1;33m\u001b[0m\u001b[0m\n\u001b[0;32m    543\u001b[0m             \u001b[0mhook_result\u001b[0m \u001b[1;33m=\u001b[0m \u001b[0mhook\u001b[0m\u001b[1;33m(\u001b[0m\u001b[0mself\u001b[0m\u001b[1;33m,\u001b[0m \u001b[0minput\u001b[0m\u001b[1;33m,\u001b[0m \u001b[0mresult\u001b[0m\u001b[1;33m)\u001b[0m\u001b[1;33m\u001b[0m\u001b[1;33m\u001b[0m\u001b[0m\n",
      "\u001b[1;32mD:\\Anaconda3\\lib\\site-packages\\torch\\nn\\modules\\container.py\u001b[0m in \u001b[0;36mforward\u001b[1;34m(self, input)\u001b[0m\n\u001b[0;32m     90\u001b[0m     \u001b[1;32mdef\u001b[0m \u001b[0mforward\u001b[0m\u001b[1;33m(\u001b[0m\u001b[0mself\u001b[0m\u001b[1;33m,\u001b[0m \u001b[0minput\u001b[0m\u001b[1;33m)\u001b[0m\u001b[1;33m:\u001b[0m\u001b[1;33m\u001b[0m\u001b[1;33m\u001b[0m\u001b[0m\n\u001b[0;32m     91\u001b[0m         \u001b[1;32mfor\u001b[0m \u001b[0mmodule\u001b[0m \u001b[1;32min\u001b[0m \u001b[0mself\u001b[0m\u001b[1;33m.\u001b[0m\u001b[0m_modules\u001b[0m\u001b[1;33m.\u001b[0m\u001b[0mvalues\u001b[0m\u001b[1;33m(\u001b[0m\u001b[1;33m)\u001b[0m\u001b[1;33m:\u001b[0m\u001b[1;33m\u001b[0m\u001b[1;33m\u001b[0m\u001b[0m\n\u001b[1;32m---> 92\u001b[1;33m             \u001b[0minput\u001b[0m \u001b[1;33m=\u001b[0m \u001b[0mmodule\u001b[0m\u001b[1;33m(\u001b[0m\u001b[0minput\u001b[0m\u001b[1;33m)\u001b[0m\u001b[1;33m\u001b[0m\u001b[1;33m\u001b[0m\u001b[0m\n\u001b[0m\u001b[0;32m     93\u001b[0m         \u001b[1;32mreturn\u001b[0m \u001b[0minput\u001b[0m\u001b[1;33m\u001b[0m\u001b[1;33m\u001b[0m\u001b[0m\n\u001b[0;32m     94\u001b[0m \u001b[1;33m\u001b[0m\u001b[0m\n",
      "\u001b[1;32mD:\\Anaconda3\\lib\\site-packages\\torch\\nn\\modules\\module.py\u001b[0m in \u001b[0;36m__call__\u001b[1;34m(self, *input, **kwargs)\u001b[0m\n\u001b[0;32m    539\u001b[0m             \u001b[0mresult\u001b[0m \u001b[1;33m=\u001b[0m \u001b[0mself\u001b[0m\u001b[1;33m.\u001b[0m\u001b[0m_slow_forward\u001b[0m\u001b[1;33m(\u001b[0m\u001b[1;33m*\u001b[0m\u001b[0minput\u001b[0m\u001b[1;33m,\u001b[0m \u001b[1;33m**\u001b[0m\u001b[0mkwargs\u001b[0m\u001b[1;33m)\u001b[0m\u001b[1;33m\u001b[0m\u001b[1;33m\u001b[0m\u001b[0m\n\u001b[0;32m    540\u001b[0m         \u001b[1;32melse\u001b[0m\u001b[1;33m:\u001b[0m\u001b[1;33m\u001b[0m\u001b[1;33m\u001b[0m\u001b[0m\n\u001b[1;32m--> 541\u001b[1;33m             \u001b[0mresult\u001b[0m \u001b[1;33m=\u001b[0m \u001b[0mself\u001b[0m\u001b[1;33m.\u001b[0m\u001b[0mforward\u001b[0m\u001b[1;33m(\u001b[0m\u001b[1;33m*\u001b[0m\u001b[0minput\u001b[0m\u001b[1;33m,\u001b[0m \u001b[1;33m**\u001b[0m\u001b[0mkwargs\u001b[0m\u001b[1;33m)\u001b[0m\u001b[1;33m\u001b[0m\u001b[1;33m\u001b[0m\u001b[0m\n\u001b[0m\u001b[0;32m    542\u001b[0m         \u001b[1;32mfor\u001b[0m \u001b[0mhook\u001b[0m \u001b[1;32min\u001b[0m \u001b[0mself\u001b[0m\u001b[1;33m.\u001b[0m\u001b[0m_forward_hooks\u001b[0m\u001b[1;33m.\u001b[0m\u001b[0mvalues\u001b[0m\u001b[1;33m(\u001b[0m\u001b[1;33m)\u001b[0m\u001b[1;33m:\u001b[0m\u001b[1;33m\u001b[0m\u001b[1;33m\u001b[0m\u001b[0m\n\u001b[0;32m    543\u001b[0m             \u001b[0mhook_result\u001b[0m \u001b[1;33m=\u001b[0m \u001b[0mhook\u001b[0m\u001b[1;33m(\u001b[0m\u001b[0mself\u001b[0m\u001b[1;33m,\u001b[0m \u001b[0minput\u001b[0m\u001b[1;33m,\u001b[0m \u001b[0mresult\u001b[0m\u001b[1;33m)\u001b[0m\u001b[1;33m\u001b[0m\u001b[1;33m\u001b[0m\u001b[0m\n",
      "\u001b[1;32mD:\\Anaconda3\\lib\\site-packages\\torch\\nn\\modules\\container.py\u001b[0m in \u001b[0;36mforward\u001b[1;34m(self, input)\u001b[0m\n\u001b[0;32m     90\u001b[0m     \u001b[1;32mdef\u001b[0m \u001b[0mforward\u001b[0m\u001b[1;33m(\u001b[0m\u001b[0mself\u001b[0m\u001b[1;33m,\u001b[0m \u001b[0minput\u001b[0m\u001b[1;33m)\u001b[0m\u001b[1;33m:\u001b[0m\u001b[1;33m\u001b[0m\u001b[1;33m\u001b[0m\u001b[0m\n\u001b[0;32m     91\u001b[0m         \u001b[1;32mfor\u001b[0m \u001b[0mmodule\u001b[0m \u001b[1;32min\u001b[0m \u001b[0mself\u001b[0m\u001b[1;33m.\u001b[0m\u001b[0m_modules\u001b[0m\u001b[1;33m.\u001b[0m\u001b[0mvalues\u001b[0m\u001b[1;33m(\u001b[0m\u001b[1;33m)\u001b[0m\u001b[1;33m:\u001b[0m\u001b[1;33m\u001b[0m\u001b[1;33m\u001b[0m\u001b[0m\n\u001b[1;32m---> 92\u001b[1;33m             \u001b[0minput\u001b[0m \u001b[1;33m=\u001b[0m \u001b[0mmodule\u001b[0m\u001b[1;33m(\u001b[0m\u001b[0minput\u001b[0m\u001b[1;33m)\u001b[0m\u001b[1;33m\u001b[0m\u001b[1;33m\u001b[0m\u001b[0m\n\u001b[0m\u001b[0;32m     93\u001b[0m         \u001b[1;32mreturn\u001b[0m \u001b[0minput\u001b[0m\u001b[1;33m\u001b[0m\u001b[1;33m\u001b[0m\u001b[0m\n\u001b[0;32m     94\u001b[0m \u001b[1;33m\u001b[0m\u001b[0m\n",
      "\u001b[1;32mD:\\Anaconda3\\lib\\site-packages\\torch\\nn\\modules\\module.py\u001b[0m in \u001b[0;36m__call__\u001b[1;34m(self, *input, **kwargs)\u001b[0m\n\u001b[0;32m    539\u001b[0m             \u001b[0mresult\u001b[0m \u001b[1;33m=\u001b[0m \u001b[0mself\u001b[0m\u001b[1;33m.\u001b[0m\u001b[0m_slow_forward\u001b[0m\u001b[1;33m(\u001b[0m\u001b[1;33m*\u001b[0m\u001b[0minput\u001b[0m\u001b[1;33m,\u001b[0m \u001b[1;33m**\u001b[0m\u001b[0mkwargs\u001b[0m\u001b[1;33m)\u001b[0m\u001b[1;33m\u001b[0m\u001b[1;33m\u001b[0m\u001b[0m\n\u001b[0;32m    540\u001b[0m         \u001b[1;32melse\u001b[0m\u001b[1;33m:\u001b[0m\u001b[1;33m\u001b[0m\u001b[1;33m\u001b[0m\u001b[0m\n\u001b[1;32m--> 541\u001b[1;33m             \u001b[0mresult\u001b[0m \u001b[1;33m=\u001b[0m \u001b[0mself\u001b[0m\u001b[1;33m.\u001b[0m\u001b[0mforward\u001b[0m\u001b[1;33m(\u001b[0m\u001b[1;33m*\u001b[0m\u001b[0minput\u001b[0m\u001b[1;33m,\u001b[0m \u001b[1;33m**\u001b[0m\u001b[0mkwargs\u001b[0m\u001b[1;33m)\u001b[0m\u001b[1;33m\u001b[0m\u001b[1;33m\u001b[0m\u001b[0m\n\u001b[0m\u001b[0;32m    542\u001b[0m         \u001b[1;32mfor\u001b[0m \u001b[0mhook\u001b[0m \u001b[1;32min\u001b[0m \u001b[0mself\u001b[0m\u001b[1;33m.\u001b[0m\u001b[0m_forward_hooks\u001b[0m\u001b[1;33m.\u001b[0m\u001b[0mvalues\u001b[0m\u001b[1;33m(\u001b[0m\u001b[1;33m)\u001b[0m\u001b[1;33m:\u001b[0m\u001b[1;33m\u001b[0m\u001b[1;33m\u001b[0m\u001b[0m\n\u001b[0;32m    543\u001b[0m             \u001b[0mhook_result\u001b[0m \u001b[1;33m=\u001b[0m \u001b[0mhook\u001b[0m\u001b[1;33m(\u001b[0m\u001b[0mself\u001b[0m\u001b[1;33m,\u001b[0m \u001b[0minput\u001b[0m\u001b[1;33m,\u001b[0m \u001b[0mresult\u001b[0m\u001b[1;33m)\u001b[0m\u001b[1;33m\u001b[0m\u001b[1;33m\u001b[0m\u001b[0m\n",
      "\u001b[1;32mD:\\Anaconda3\\lib\\site-packages\\torch\\nn\\modules\\linear.py\u001b[0m in \u001b[0;36mforward\u001b[1;34m(self, input)\u001b[0m\n\u001b[0;32m     85\u001b[0m \u001b[1;33m\u001b[0m\u001b[0m\n\u001b[0;32m     86\u001b[0m     \u001b[1;32mdef\u001b[0m \u001b[0mforward\u001b[0m\u001b[1;33m(\u001b[0m\u001b[0mself\u001b[0m\u001b[1;33m,\u001b[0m \u001b[0minput\u001b[0m\u001b[1;33m)\u001b[0m\u001b[1;33m:\u001b[0m\u001b[1;33m\u001b[0m\u001b[1;33m\u001b[0m\u001b[0m\n\u001b[1;32m---> 87\u001b[1;33m         \u001b[1;32mreturn\u001b[0m \u001b[0mF\u001b[0m\u001b[1;33m.\u001b[0m\u001b[0mlinear\u001b[0m\u001b[1;33m(\u001b[0m\u001b[0minput\u001b[0m\u001b[1;33m,\u001b[0m \u001b[0mself\u001b[0m\u001b[1;33m.\u001b[0m\u001b[0mweight\u001b[0m\u001b[1;33m,\u001b[0m \u001b[0mself\u001b[0m\u001b[1;33m.\u001b[0m\u001b[0mbias\u001b[0m\u001b[1;33m)\u001b[0m\u001b[1;33m\u001b[0m\u001b[1;33m\u001b[0m\u001b[0m\n\u001b[0m\u001b[0;32m     88\u001b[0m \u001b[1;33m\u001b[0m\u001b[0m\n\u001b[0;32m     89\u001b[0m     \u001b[1;32mdef\u001b[0m \u001b[0mextra_repr\u001b[0m\u001b[1;33m(\u001b[0m\u001b[0mself\u001b[0m\u001b[1;33m)\u001b[0m\u001b[1;33m:\u001b[0m\u001b[1;33m\u001b[0m\u001b[1;33m\u001b[0m\u001b[0m\n",
      "\u001b[1;32mD:\\Anaconda3\\lib\\site-packages\\torch\\nn\\functional.py\u001b[0m in \u001b[0;36mlinear\u001b[1;34m(input, weight, bias)\u001b[0m\n\u001b[0;32m   1368\u001b[0m     \u001b[1;32mif\u001b[0m \u001b[0minput\u001b[0m\u001b[1;33m.\u001b[0m\u001b[0mdim\u001b[0m\u001b[1;33m(\u001b[0m\u001b[1;33m)\u001b[0m \u001b[1;33m==\u001b[0m \u001b[1;36m2\u001b[0m \u001b[1;32mand\u001b[0m \u001b[0mbias\u001b[0m \u001b[1;32mis\u001b[0m \u001b[1;32mnot\u001b[0m \u001b[1;32mNone\u001b[0m\u001b[1;33m:\u001b[0m\u001b[1;33m\u001b[0m\u001b[1;33m\u001b[0m\u001b[0m\n\u001b[0;32m   1369\u001b[0m         \u001b[1;31m# fused op is marginally faster\u001b[0m\u001b[1;33m\u001b[0m\u001b[1;33m\u001b[0m\u001b[1;33m\u001b[0m\u001b[0m\n\u001b[1;32m-> 1370\u001b[1;33m         \u001b[0mret\u001b[0m \u001b[1;33m=\u001b[0m \u001b[0mtorch\u001b[0m\u001b[1;33m.\u001b[0m\u001b[0maddmm\u001b[0m\u001b[1;33m(\u001b[0m\u001b[0mbias\u001b[0m\u001b[1;33m,\u001b[0m \u001b[0minput\u001b[0m\u001b[1;33m,\u001b[0m \u001b[0mweight\u001b[0m\u001b[1;33m.\u001b[0m\u001b[0mt\u001b[0m\u001b[1;33m(\u001b[0m\u001b[1;33m)\u001b[0m\u001b[1;33m)\u001b[0m\u001b[1;33m\u001b[0m\u001b[1;33m\u001b[0m\u001b[0m\n\u001b[0m\u001b[0;32m   1371\u001b[0m     \u001b[1;32melse\u001b[0m\u001b[1;33m:\u001b[0m\u001b[1;33m\u001b[0m\u001b[1;33m\u001b[0m\u001b[0m\n\u001b[0;32m   1372\u001b[0m         \u001b[0moutput\u001b[0m \u001b[1;33m=\u001b[0m \u001b[0minput\u001b[0m\u001b[1;33m.\u001b[0m\u001b[0mmatmul\u001b[0m\u001b[1;33m(\u001b[0m\u001b[0mweight\u001b[0m\u001b[1;33m.\u001b[0m\u001b[0mt\u001b[0m\u001b[1;33m(\u001b[0m\u001b[1;33m)\u001b[0m\u001b[1;33m)\u001b[0m\u001b[1;33m\u001b[0m\u001b[1;33m\u001b[0m\u001b[0m\n",
      "\u001b[1;31mRuntimeError\u001b[0m: size mismatch, m1: [200 x 7714], m2: [17419 x 2048] at C:/w/1/s/windows/pytorch/aten/src\\THC/generic/THCTensorMathBlas.cu:290"
     ]
    }
   ],
   "source": [
    "result = ut.train_transfer_model(source_encoder,encoder,discriminator,\n",
    "                    dataloaders_source,dataloaders_pretrain,\n",
    "                    loss_d,loss_function_e,\n",
    "                    optimizer_e,optimizer_d,\n",
    "                    exp_lr_scheduler_e,exp_lr_scheduler_d,\n",
    "                    500,device)"
   ]
  },
  {
   "cell_type": "code",
   "execution_count": null,
   "metadata": {},
   "outputs": [],
   "source": [
    "# Train target encoder\n",
    "encoder,loss_report_en = ut.train_extractor_model(net=encoder,data_loaders=dataloaders_pretrain,\n",
    "                            optimizer=optimizer_e,loss_function=loss_function_e,\n",
    "                            n_epochs=epochs,scheduler=exp_lr_scheduler_e,save_path=pretrain_path)\n",
    "\n",
    "print(\"Pretrained finished\")"
   ]
  },
  {
   "cell_type": "code",
   "execution_count": null,
   "metadata": {},
   "outputs": [],
   "source": [
    "embeddings = encoder.encode(X_allTensor).detach().cpu().numpy()"
   ]
  },
  {
   "cell_type": "code",
   "execution_count": null,
   "metadata": {},
   "outputs": [],
   "source": [
    "sc.tl.pca(adata, svd_solver='arpack')"
   ]
  },
  {
   "cell_type": "code",
   "execution_count": null,
   "metadata": {},
   "outputs": [],
   "source": [
    "adata.obsm[\"X_AE\"] = embeddings"
   ]
  },
  {
   "cell_type": "code",
   "execution_count": null,
   "metadata": {},
   "outputs": [],
   "source": [
    "sc.pp.neighbors(adata, n_neighbors=10,use_rep=\"X_AE\")\n",
    "#sc.tl.umap(adata)"
   ]
  },
  {
   "cell_type": "code",
   "execution_count": null,
   "metadata": {},
   "outputs": [],
   "source": [
    "sc.tl.tsne(adata,use_rep=\"X_AE\")"
   ]
  },
  {
   "cell_type": "code",
   "execution_count": null,
   "metadata": {},
   "outputs": [],
   "source": [
    "sc.tl.leiden(adata)"
   ]
  },
  {
   "cell_type": "code",
   "execution_count": null,
   "metadata": {},
   "outputs": [],
   "source": [
    "sc.pl.tsne(adata,save=export_name,color=[\"leiden\"])"
   ]
  },
  {
   "cell_type": "code",
   "execution_count": null,
   "metadata": {},
   "outputs": [],
   "source": [
    "sc.tl.rank_genes_groups(adata, 'leiden', method='wilcoxon')\n",
    "sc.pl.rank_genes_groups(adata, n_genes=25, sharey=False,save=export_name)"
   ]
  },
  {
   "cell_type": "code",
   "execution_count": null,
   "metadata": {},
   "outputs": [],
   "source": [
    "adata.write(\"saved/results\"+export_name+\".h5ad\")"
   ]
  }
 ],
 "metadata": {
  "kernelspec": {
   "display_name": "Python 3",
   "language": "python",
   "name": "python3"
  },
  "language_info": {
   "codemirror_mode": {
    "name": "ipython",
    "version": 3
   },
   "file_extension": ".py",
   "mimetype": "text/x-python",
   "name": "python",
   "nbconvert_exporter": "python",
   "pygments_lexer": "ipython3",
   "version": "3.7.3"
  }
 },
 "nbformat": 4,
 "nbformat_minor": 2
}
