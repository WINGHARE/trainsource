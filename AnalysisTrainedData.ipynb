{
 "cells": [
  {
   "cell_type": "code",
   "execution_count": 23,
   "metadata": {},
   "outputs": [],
   "source": [
    "import argparse\n",
    "import copy\n",
    "import os\n",
    "import sys\n",
    "import time\n",
    "\n",
    "import numpy as np\n",
    "import pandas as pd\n",
    "from pandas.core.arrays import boolean\n",
    "import torch\n",
    "from scipy import stats\n",
    "from sklearn import preprocessing\n",
    "from torch import nn, optim\n",
    "from torch.autograd import Variable\n",
    "from torch.nn import functional as F\n",
    "from torch.optim import lr_scheduler\n",
    "from torch.utils.data import DataLoader, TensorDataset\n",
    "from sklearn.model_selection import train_test_split\n",
    "from sklearn.metrics import mean_squared_error\n",
    "import models\n",
    "import utils as ut\n",
    "from models import AEBase, Predictor, PretrainedPredictor\n",
    "\n",
    "import scanpypip.preprocessing as pp\n",
    "import scanpypip.utils as scut \n",
    "\n",
    "import scanpy as sc"
   ]
  },
  {
   "cell_type": "code",
   "execution_count": 24,
   "metadata": {},
   "outputs": [],
   "source": [
    "class Arguments:\n",
    "    def __init__(self):   \n",
    "        self.epochs = 500\n",
    "        self.bottleneck = 512\n",
    "        self.missing_value = np.nan\n",
    "        self.target_data = \"data/GSE108394/GSM2897334/\"\n",
    "        self.source_data = \"data/GDSC2_expression.csv\"\n",
    "        self.test_size = 0.2\n",
    "        self.valid_size = 0.2\n",
    "        self.source_model_path = \"saved/models/pretrained_novar.pkl\"\n",
    "        self.target_model_path = \"saved/models/\"\n",
    "        self.logging_file = \"saved/logs/\"\n",
    "        self.batch_size = 200\n",
    "        self.source_h_dims = \"2048,1024\"\n",
    "        self.target_h_dims = \"512,256\"\n",
    "\n",
    "        self.var_genes_disp = 0\n",
    "        self.pretrain_path = \"saved/models/pretrained_novar.pkl\"\n",
    "        self.min_n_genes = 0\n",
    "        self.max_n_genes = 20000\n",
    "        self.min_g = 200\n",
    "        self.min_c = 3\n",
    "\n",
    "        \n",
    "args = Arguments()"
   ]
  },
  {
   "cell_type": "code",
   "execution_count": 25,
   "metadata": {},
   "outputs": [],
   "source": [
    "epochs = args.epochs\n",
    "dim_au_out = args.bottleneck #8, 16, 32, 64, 128, 256,512\n",
    "dim_dnn_in = dim_au_out\n",
    "dim_dnn_out=1\n",
    "na = args.missing_value\n",
    "data_path = args.target_data\n",
    "test_size = args.test_size\n",
    "valid_size = args.valid_size\n",
    "g_disperson = args.var_genes_disp\n",
    "min_n_genes = args.min_n_genes\n",
    "max_n_genes = args.max_n_genes\n",
    "source_model_path = args.source_model_path\n",
    "target_model_path = args.target_model_path \n",
    "pretrain_path = args.pretrain_path\n",
    "log_path = args.logging_file\n",
    "batch_size = args.batch_size\n",
    "encoder_hdims = args.source_h_dims.split(\",\")\n",
    "encoder_hdims = list(map(int, encoder_hdims))\n",
    "source_data_path = args.source_data \n"
   ]
  },
  {
   "cell_type": "code",
   "execution_count": 26,
   "metadata": {},
   "outputs": [],
   "source": [
    "now=time.strftime(\"%Y-%m-%d-%H-%M-%S\")\n",
    "log_path = log_path+now+\".txt\"\n",
    "export_name = data_path.replace(\"/\",\"\")\n",
    "pretrain_path = \"saved/models/ae_\"+export_name+now+\".pkl\""
   ]
  },
  {
   "cell_type": "code",
   "execution_count": 27,
   "metadata": {},
   "outputs": [],
   "source": [
    "#scv = pd.read_csv('data/GSE117872/GSE117872_good_Data_TPM.txt',sep=\"\\t\")"
   ]
  },
  {
   "cell_type": "code",
   "execution_count": 28,
   "metadata": {},
   "outputs": [],
   "source": [
    "#scv.shape"
   ]
  },
  {
   "cell_type": "code",
   "execution_count": 29,
   "metadata": {},
   "outputs": [],
   "source": [
    "adata = sc.read_h5ad('saved/resultsdataGSE108394GSM2897334.h5ad')"
   ]
  },
  {
   "cell_type": "code",
   "execution_count": 30,
   "metadata": {},
   "outputs": [
    {
     "data": {
      "text/plain": [
       "AnnData object with n_obs × n_vars = 1302 × 7714\n",
       "    obs: 'n_genes', 'n_genes_by_counts', 'total_counts', 'total_counts_mt', 'pct_counts_mt', 'total_counts_rps', 'pct_counts_rps', 'total_counts_rpl', 'pct_counts_rpl', 'leiden'\n",
       "    var: 'n_cells', 'mt', 'rps', 'rpl', 'n_cells_by_counts', 'mean_counts', 'pct_dropout_by_counts', 'total_counts', 'highly_variable', 'means', 'dispersions', 'dispersions_norm'\n",
       "    uns: 'hvg', 'leiden', 'leiden_colors', 'neighbors', 'pca', 'rank_genes_groups'\n",
       "    obsm: 'X_AE', 'X_pca', 'X_tsne'\n",
       "    varm: 'PCs'\n",
       "    obsp: 'connectivities', 'distances'"
      ]
     },
     "execution_count": 30,
     "metadata": {},
     "output_type": "execute_result"
    }
   ],
   "source": [
    "adata"
   ]
  },
  {
   "cell_type": "code",
   "execution_count": 31,
   "metadata": {},
   "outputs": [],
   "source": [
    "annotation = pd.read_csv('data/GSE117872/GSE117872_good_Data_cellinfo.txt',sep=\"\\t\")"
   ]
  },
  {
   "cell_type": "code",
   "execution_count": 32,
   "metadata": {},
   "outputs": [
    {
     "data": {
      "text/html": [
       "<div>\n",
       "<style scoped>\n",
       "    .dataframe tbody tr th:only-of-type {\n",
       "        vertical-align: middle;\n",
       "    }\n",
       "\n",
       "    .dataframe tbody tr th {\n",
       "        vertical-align: top;\n",
       "    }\n",
       "\n",
       "    .dataframe thead th {\n",
       "        text-align: right;\n",
       "    }\n",
       "</style>\n",
       "<table border=\"1\" class=\"dataframe\">\n",
       "  <thead>\n",
       "    <tr style=\"text-align: right;\">\n",
       "      <th></th>\n",
       "      <th>groups</th>\n",
       "      <th>cell_color</th>\n",
       "      <th>patient_id</th>\n",
       "      <th>origin</th>\n",
       "      <th>drug_status</th>\n",
       "      <th>cluster</th>\n",
       "      <th>pca_clusters</th>\n",
       "      <th>pagoda_clusters</th>\n",
       "      <th>Unnamed: 8</th>\n",
       "    </tr>\n",
       "  </thead>\n",
       "  <tbody>\n",
       "    <tr>\n",
       "      <th>0</th>\n",
       "      <td>RHC6558</td>\n",
       "      <td>HN148M</td>\n",
       "      <td>bisque</td>\n",
       "      <td>HN148</td>\n",
       "      <td>Metastatic</td>\n",
       "      <td>Sensitive</td>\n",
       "      <td>3</td>\n",
       "      <td>1</td>\n",
       "      <td>1</td>\n",
       "    </tr>\n",
       "    <tr>\n",
       "      <th>1</th>\n",
       "      <td>RHC6559</td>\n",
       "      <td>HN148M</td>\n",
       "      <td>bisque</td>\n",
       "      <td>HN148</td>\n",
       "      <td>Metastatic</td>\n",
       "      <td>Sensitive</td>\n",
       "      <td>3</td>\n",
       "      <td>1</td>\n",
       "      <td>1</td>\n",
       "    </tr>\n",
       "    <tr>\n",
       "      <th>2</th>\n",
       "      <td>RHC6560</td>\n",
       "      <td>HN148M</td>\n",
       "      <td>bisque</td>\n",
       "      <td>HN148</td>\n",
       "      <td>Metastatic</td>\n",
       "      <td>Sensitive</td>\n",
       "      <td>3</td>\n",
       "      <td>1</td>\n",
       "      <td>1</td>\n",
       "    </tr>\n",
       "    <tr>\n",
       "      <th>3</th>\n",
       "      <td>RHC6561</td>\n",
       "      <td>HN148M</td>\n",
       "      <td>bisque</td>\n",
       "      <td>HN148</td>\n",
       "      <td>Metastatic</td>\n",
       "      <td>Sensitive</td>\n",
       "      <td>3</td>\n",
       "      <td>1</td>\n",
       "      <td>1</td>\n",
       "    </tr>\n",
       "    <tr>\n",
       "      <th>4</th>\n",
       "      <td>RHC6562</td>\n",
       "      <td>HN148M</td>\n",
       "      <td>bisque</td>\n",
       "      <td>HN148</td>\n",
       "      <td>Metastatic</td>\n",
       "      <td>Sensitive</td>\n",
       "      <td>3</td>\n",
       "      <td>1</td>\n",
       "      <td>1</td>\n",
       "    </tr>\n",
       "    <tr>\n",
       "      <th>...</th>\n",
       "      <td>...</td>\n",
       "      <td>...</td>\n",
       "      <td>...</td>\n",
       "      <td>...</td>\n",
       "      <td>...</td>\n",
       "      <td>...</td>\n",
       "      <td>...</td>\n",
       "      <td>...</td>\n",
       "      <td>...</td>\n",
       "    </tr>\n",
       "    <tr>\n",
       "      <th>1297</th>\n",
       "      <td>RHH3298</td>\n",
       "      <td>HN137PCRDH</td>\n",
       "      <td>brown</td>\n",
       "      <td>HN137</td>\n",
       "      <td>Primary</td>\n",
       "      <td>Holiday</td>\n",
       "      <td>2</td>\n",
       "      <td>2</td>\n",
       "      <td>3</td>\n",
       "    </tr>\n",
       "    <tr>\n",
       "      <th>1298</th>\n",
       "      <td>RHH3299</td>\n",
       "      <td>HN137PCRDH</td>\n",
       "      <td>brown</td>\n",
       "      <td>HN137</td>\n",
       "      <td>Primary</td>\n",
       "      <td>Holiday</td>\n",
       "      <td>2</td>\n",
       "      <td>2</td>\n",
       "      <td>3</td>\n",
       "    </tr>\n",
       "    <tr>\n",
       "      <th>1299</th>\n",
       "      <td>RHH3300</td>\n",
       "      <td>HN137PCRDH</td>\n",
       "      <td>brown</td>\n",
       "      <td>HN137</td>\n",
       "      <td>Primary</td>\n",
       "      <td>Holiday</td>\n",
       "      <td>2</td>\n",
       "      <td>2</td>\n",
       "      <td>3</td>\n",
       "    </tr>\n",
       "    <tr>\n",
       "      <th>1300</th>\n",
       "      <td>RHH3301</td>\n",
       "      <td>HN137PCRDH</td>\n",
       "      <td>brown</td>\n",
       "      <td>HN137</td>\n",
       "      <td>Primary</td>\n",
       "      <td>Holiday</td>\n",
       "      <td>2</td>\n",
       "      <td>2</td>\n",
       "      <td>3</td>\n",
       "    </tr>\n",
       "    <tr>\n",
       "      <th>1301</th>\n",
       "      <td>RHH3302</td>\n",
       "      <td>HN137PCRDH</td>\n",
       "      <td>brown</td>\n",
       "      <td>HN137</td>\n",
       "      <td>Primary</td>\n",
       "      <td>Holiday</td>\n",
       "      <td>2</td>\n",
       "      <td>2</td>\n",
       "      <td>3</td>\n",
       "    </tr>\n",
       "  </tbody>\n",
       "</table>\n",
       "<p>1302 rows × 9 columns</p>\n",
       "</div>"
      ],
      "text/plain": [
       "       groups  cell_color patient_id origin drug_status    cluster  \\\n",
       "0     RHC6558      HN148M     bisque  HN148  Metastatic  Sensitive   \n",
       "1     RHC6559      HN148M     bisque  HN148  Metastatic  Sensitive   \n",
       "2     RHC6560      HN148M     bisque  HN148  Metastatic  Sensitive   \n",
       "3     RHC6561      HN148M     bisque  HN148  Metastatic  Sensitive   \n",
       "4     RHC6562      HN148M     bisque  HN148  Metastatic  Sensitive   \n",
       "...       ...         ...        ...    ...         ...        ...   \n",
       "1297  RHH3298  HN137PCRDH      brown  HN137     Primary    Holiday   \n",
       "1298  RHH3299  HN137PCRDH      brown  HN137     Primary    Holiday   \n",
       "1299  RHH3300  HN137PCRDH      brown  HN137     Primary    Holiday   \n",
       "1300  RHH3301  HN137PCRDH      brown  HN137     Primary    Holiday   \n",
       "1301  RHH3302  HN137PCRDH      brown  HN137     Primary    Holiday   \n",
       "\n",
       "      pca_clusters  pagoda_clusters  Unnamed: 8  \n",
       "0                3                1           1  \n",
       "1                3                1           1  \n",
       "2                3                1           1  \n",
       "3                3                1           1  \n",
       "4                3                1           1  \n",
       "...            ...              ...         ...  \n",
       "1297             2                2           3  \n",
       "1298             2                2           3  \n",
       "1299             2                2           3  \n",
       "1300             2                2           3  \n",
       "1301             2                2           3  \n",
       "\n",
       "[1302 rows x 9 columns]"
      ]
     },
     "execution_count": 32,
     "metadata": {},
     "output_type": "execute_result"
    }
   ],
   "source": [
    "annotation"
   ]
  },
  {
   "cell_type": "code",
   "execution_count": 33,
   "metadata": {},
   "outputs": [],
   "source": [
    "for item in annotation.columns:\n",
    "    #print(annotation.loc[:,item])\n",
    "    #if(annotation.loc[:,item].dtype == object):\n",
    "    adata.obs[str(item)] = annotation.loc[:,item].convert_dtypes('str').values\n",
    "    #else:\n",
    "        #adata.obs[str(item)] = annotation.loc[:,item].values"
   ]
  },
  {
   "cell_type": "code",
   "execution_count": 50,
   "metadata": {},
   "outputs": [
    {
     "name": "stderr",
     "output_type": "stream",
     "text": [
      "D:\\Anaconda3\\lib\\site-packages\\anndata\\_core\\anndata.py:1192: FutureWarning: is_categorical is deprecated and will be removed in a future version.  Use is_categorical_dtype instead\n",
      "  if is_string_dtype(df[key]) and not is_categorical(df[key])\n"
     ]
    },
    {
     "data": {
      "image/png": "[encoded data removed]",
      "text/plain": [
       "<Figure size 1483.92x288 with 3 Axes>"
      ]
     },
     "metadata": {},
     "output_type": "display_data"
    }
   ],
   "source": [
    "sc.pp.neighbors(adata)\n",
    "sc.tl.umap(adata)\n",
    "sc.tl.leiden(adata)\n",
    "sc.pl.umap(adata,color=[\"cluster\",\"origin\",\"leiden\"])"
   ]
  },
  {
   "cell_type": "code",
   "execution_count": null,
   "metadata": {},
   "outputs": [
    {
     "name": "stderr",
     "output_type": "stream",
     "text": [
      "D:\\Anaconda3\\lib\\site-packages\\anndata\\_core\\anndata.py:1192: FutureWarning: is_categorical is deprecated and will be removed in a future version.  Use is_categorical_dtype instead\n",
      "  if is_string_dtype(df[key]) and not is_categorical(df[key])\n"
     ]
    }
   ],
   "source": [
    "sc.pp.neighbors(adata,use_rep='X_AE',key_added=\"Trans\")\n",
    "sc.tl.umap(adata,neighbors_key=\"Trans\")\n",
    "sc.tl.leiden(adata,neighbors_key=\"Trans\",key_added=\"leiden_trans\")\n",
    "sc.pl.umap(adata,color=[\"cluster\",\"origin\",\"leiden_trans\"],neighbors_key=\"Trans\")"
   ]
  },
  {
   "cell_type": "code",
   "execution_count": 48,
   "metadata": {},
   "outputs": [
    {
     "data": {
      "text/plain": [
       "AnnData object with n_obs × n_vars = 1302 × 7714\n",
       "    obs: 'n_genes', 'n_genes_by_counts', 'total_counts', 'total_counts_mt', 'pct_counts_mt', 'total_counts_rps', 'pct_counts_rps', 'total_counts_rpl', 'pct_counts_rpl', 'leiden', 'groups', 'cell_color', 'patient_id', 'origin', 'drug_status', 'cluster', 'pca_clusters', 'pagoda_clusters', 'Unnamed: 8', 'Leiden_trans'\n",
       "    var: 'n_cells', 'mt', 'rps', 'rpl', 'n_cells_by_counts', 'mean_counts', 'pct_dropout_by_counts', 'total_counts', 'highly_variable', 'means', 'dispersions', 'dispersions_norm'\n",
       "    uns: 'hvg', 'leiden', 'leiden_colors', 'neighbors', 'pca', 'rank_genes_groups', 'Trans', 'umap', 'cluster_colors', 'origin_colors'\n",
       "    obsm: 'X_AE', 'X_pca', 'X_tsne', 'X_umap'\n",
       "    varm: 'PCs'\n",
       "    obsp: 'connectivities', 'distances', 'Trans_distances', 'Trans_connectivities'"
      ]
     },
     "execution_count": 48,
     "metadata": {},
     "output_type": "execute_result"
    }
   ],
   "source": [
    "adata"
   ]
  },
  {
   "cell_type": "code",
   "execution_count": 43,
   "metadata": {},
   "outputs": [
    {
     "data": {
      "text/plain": [
       "AnnData object with n_obs × n_vars = 1302 × 7714\n",
       "    obs: 'n_genes', 'n_genes_by_counts', 'total_counts', 'total_counts_mt', 'pct_counts_mt', 'total_counts_rps', 'pct_counts_rps', 'total_counts_rpl', 'pct_counts_rpl', 'leiden', 'groups', 'cell_color', 'patient_id', 'origin', 'drug_status', 'cluster', 'pca_clusters', 'pagoda_clusters', 'Unnamed: 8', 'Leiden_trans'\n",
       "    var: 'n_cells', 'mt', 'rps', 'rpl', 'n_cells_by_counts', 'mean_counts', 'pct_dropout_by_counts', 'total_counts', 'highly_variable', 'means', 'dispersions', 'dispersions_norm'\n",
       "    uns: 'hvg', 'leiden', 'leiden_colors', 'neighbors', 'pca', 'rank_genes_groups', 'Trans', 'umap', 'cluster_colors', 'origin_colors'\n",
       "    obsm: 'X_AE', 'X_pca', 'X_tsne', 'X_umap'\n",
       "    varm: 'PCs'\n",
       "    obsp: 'connectivities', 'distances', 'Trans_distances', 'Trans_connectivities'"
      ]
     },
     "execution_count": 43,
     "metadata": {},
     "output_type": "execute_result"
    }
   ],
   "source": [
    "adata"
   ]
  }
 ],
 "metadata": {
  "kernelspec": {
   "display_name": "Python 3",
   "language": "python",
   "name": "python3"
  },
  "language_info": {
   "codemirror_mode": {
    "name": "ipython",
    "version": 3
   },
   "file_extension": ".py",
   "mimetype": "text/x-python",
   "name": "python",
   "nbconvert_exporter": "python",
   "pygments_lexer": "ipython3",
   "version": "3.7.3"
  }
 },
 "nbformat": 4,
 "nbformat_minor": 2
}
